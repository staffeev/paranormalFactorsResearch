{
 "cells": [
  {
   "cell_type": "code",
   "execution_count": 1,
   "id": "1804cf55",
   "metadata": {},
   "outputs": [],
   "source": [
    "import pandas as pd"
   ]
  },
  {
   "cell_type": "code",
   "execution_count": 6,
   "id": "965a5534",
   "metadata": {},
   "outputs": [
    {
     "data": {
      "text/html": [
       "<div>\n",
       "<style scoped>\n",
       "    .dataframe tbody tr th:only-of-type {\n",
       "        vertical-align: middle;\n",
       "    }\n",
       "\n",
       "    .dataframe tbody tr th {\n",
       "        vertical-align: top;\n",
       "    }\n",
       "\n",
       "    .dataframe thead th {\n",
       "        text-align: right;\n",
       "    }\n",
       "</style>\n",
       "<table border=\"1\" class=\"dataframe\">\n",
       "  <thead>\n",
       "    <tr style=\"text-align: right;\">\n",
       "      <th></th>\n",
       "      <th>CASEID</th>\n",
       "      <th>TM_START</th>\n",
       "      <th>TM_FINIS</th>\n",
       "      <th>DURATION</th>\n",
       "      <th>WEIGHT</th>\n",
       "      <th>RELPREF</th>\n",
       "      <th>DENOM</th>\n",
       "      <th>ID_MAINL</th>\n",
       "      <th>ID_RELRI</th>\n",
       "      <th>ID_THEOL</th>\n",
       "      <th>...</th>\n",
       "      <th>PPWORK</th>\n",
       "      <th>PPNET</th>\n",
       "      <th>I_RELIGION</th>\n",
       "      <th>I_AGE</th>\n",
       "      <th>I_EDUC</th>\n",
       "      <th>I_RACE</th>\n",
       "      <th>I_GENDER</th>\n",
       "      <th>I_FINCOME</th>\n",
       "      <th>I_MARITAL</th>\n",
       "      <th>I_REGION</th>\n",
       "    </tr>\n",
       "  </thead>\n",
       "  <tbody>\n",
       "    <tr>\n",
       "      <th>0</th>\n",
       "      <td>2</td>\n",
       "      <td>4/16/2014</td>\n",
       "      <td>4/16/2014</td>\n",
       "      <td>26</td>\n",
       "      <td>1,054</td>\n",
       "      <td>2.0</td>\n",
       "      <td>Catholic</td>\n",
       "      <td>0</td>\n",
       "      <td>0</td>\n",
       "      <td>0</td>\n",
       "      <td>...</td>\n",
       "      <td>2</td>\n",
       "      <td>1</td>\n",
       "      <td>2.0</td>\n",
       "      <td>3</td>\n",
       "      <td>1</td>\n",
       "      <td>1</td>\n",
       "      <td>1</td>\n",
       "      <td>3</td>\n",
       "      <td>3</td>\n",
       "      <td>1</td>\n",
       "    </tr>\n",
       "    <tr>\n",
       "      <th>1</th>\n",
       "      <td>3</td>\n",
       "      <td>4/16/2014</td>\n",
       "      <td>4/16/2014</td>\n",
       "      <td>13</td>\n",
       "      <td>0,8647</td>\n",
       "      <td>4.0</td>\n",
       "      <td>reformed</td>\n",
       "      <td>0</td>\n",
       "      <td>0</td>\n",
       "      <td>0</td>\n",
       "      <td>...</td>\n",
       "      <td>1</td>\n",
       "      <td>1</td>\n",
       "      <td>4.0</td>\n",
       "      <td>2</td>\n",
       "      <td>4</td>\n",
       "      <td>1</td>\n",
       "      <td>2</td>\n",
       "      <td>5</td>\n",
       "      <td>4</td>\n",
       "      <td>3</td>\n",
       "    </tr>\n",
       "    <tr>\n",
       "      <th>2</th>\n",
       "      <td>4</td>\n",
       "      <td>4/16/2014</td>\n",
       "      <td>4/16/2014</td>\n",
       "      <td>43</td>\n",
       "      <td>1,0185</td>\n",
       "      <td>1.0</td>\n",
       "      <td>Nondenominational</td>\n",
       "      <td>0</td>\n",
       "      <td>0</td>\n",
       "      <td>0</td>\n",
       "      <td>...</td>\n",
       "      <td>7</td>\n",
       "      <td>1</td>\n",
       "      <td>1.0</td>\n",
       "      <td>4</td>\n",
       "      <td>3</td>\n",
       "      <td>1</td>\n",
       "      <td>1</td>\n",
       "      <td>3</td>\n",
       "      <td>2</td>\n",
       "      <td>3</td>\n",
       "    </tr>\n",
       "    <tr>\n",
       "      <th>3</th>\n",
       "      <td>5</td>\n",
       "      <td>4/16/2014</td>\n",
       "      <td>4/16/2014</td>\n",
       "      <td>24</td>\n",
       "      <td>0,3361</td>\n",
       "      <td>3.0</td>\n",
       "      <td>non denominational</td>\n",
       "      <td>0</td>\n",
       "      <td>0</td>\n",
       "      <td>0</td>\n",
       "      <td>...</td>\n",
       "      <td>5</td>\n",
       "      <td>1</td>\n",
       "      <td>3.0</td>\n",
       "      <td>4</td>\n",
       "      <td>1</td>\n",
       "      <td>4</td>\n",
       "      <td>1</td>\n",
       "      <td>3</td>\n",
       "      <td>1</td>\n",
       "      <td>4</td>\n",
       "    </tr>\n",
       "    <tr>\n",
       "      <th>4</th>\n",
       "      <td>6</td>\n",
       "      <td>4/16/2014</td>\n",
       "      <td>4/16/2014</td>\n",
       "      <td>21</td>\n",
       "      <td>1,7005</td>\n",
       "      <td>3.0</td>\n",
       "      <td>non-denominational</td>\n",
       "      <td>0</td>\n",
       "      <td>0</td>\n",
       "      <td>0</td>\n",
       "      <td>...</td>\n",
       "      <td>1</td>\n",
       "      <td>1</td>\n",
       "      <td>3.0</td>\n",
       "      <td>2</td>\n",
       "      <td>2</td>\n",
       "      <td>1</td>\n",
       "      <td>1</td>\n",
       "      <td>3</td>\n",
       "      <td>1</td>\n",
       "      <td>3</td>\n",
       "    </tr>\n",
       "  </tbody>\n",
       "</table>\n",
       "<p>5 rows × 242 columns</p>\n",
       "</div>"
      ],
      "text/plain": [
       "   CASEID   TM_START   TM_FINIS  DURATION  WEIGHT  RELPREF  \\\n",
       "0       2  4/16/2014  4/16/2014        26   1,054      2.0   \n",
       "1       3  4/16/2014  4/16/2014        13  0,8647      4.0   \n",
       "2       4  4/16/2014  4/16/2014        43  1,0185      1.0   \n",
       "3       5  4/16/2014  4/16/2014        24  0,3361      3.0   \n",
       "4       6  4/16/2014  4/16/2014        21  1,7005      3.0   \n",
       "\n",
       "                DENOM  ID_MAINL  ID_RELRI  ID_THEOL  ...  PPWORK  PPNET  \\\n",
       "0            Catholic         0         0         0  ...       2      1   \n",
       "1            reformed         0         0         0  ...       1      1   \n",
       "2   Nondenominational         0         0         0  ...       7      1   \n",
       "3  non denominational         0         0         0  ...       5      1   \n",
       "4  non-denominational         0         0         0  ...       1      1   \n",
       "\n",
       "   I_RELIGION  I_AGE  I_EDUC  I_RACE  I_GENDER  I_FINCOME  I_MARITAL  I_REGION  \n",
       "0         2.0      3       1       1         1          3          3         1  \n",
       "1         4.0      2       4       1         2          5          4         3  \n",
       "2         1.0      4       3       1         1          3          2         3  \n",
       "3         3.0      4       1       4         1          3          1         4  \n",
       "4         3.0      2       2       1         1          3          1         3  \n",
       "\n",
       "[5 rows x 242 columns]"
      ]
     },
     "execution_count": 6,
     "metadata": {},
     "output_type": "execute_result"
    }
   ],
   "source": [
    "df = pd.read_csv(\"data/csaf_2014.csv\", sep=\";\")\n",
    "df.head(5)"
   ]
  },
  {
   "cell_type": "code",
   "execution_count": 9,
   "id": "7fb36493",
   "metadata": {},
   "outputs": [],
   "source": [
    "labels = open(\"data/csaf_2014_labels.txt\").read().split(\"\\n\\n\")"
   ]
  },
  {
   "cell_type": "code",
   "execution_count": 23,
   "id": "8601b197",
   "metadata": {},
   "outputs": [
    {
     "name": "stdout",
     "output_type": "stream",
     "text": [
      "\n",
      "2) TM_START\n",
      "Interview start time\n",
      "RANGE: 0 to 0\n",
      "\tN\tMean\tStd. Deviation\n",
      "Total\t1573\t0\t0\n"
     ]
    }
   ],
   "source": [
    "print(labels[2])"
   ]
  },
  {
   "cell_type": "code",
   "execution_count": 13,
   "id": "2716ea58",
   "metadata": {},
   "outputs": [
    {
     "name": "stdout",
     "output_type": "stream",
     "text": [
      "\n",
      "10) ID_THEOL\n",
      "Which, if any, of the following terms and phrases describe your religious identity? Theologically liberal [ID_THEOLBL]\n",
      "RANGE: 0 to 1\n",
      "\tN\tMean\tStd. Deviation\n",
      "Total\t1573\t0.048\t0.214\n",
      "0) No\t1497\t95.2\n",
      "1) Yes\t76\t4.8\n"
     ]
    }
   ],
   "source": [
    "print(labels[10])"
   ]
  },
  {
   "cell_type": "code",
   "execution_count": 14,
   "id": "ffdf14fd",
   "metadata": {},
   "outputs": [
    {
     "name": "stdout",
     "output_type": "stream",
     "text": [
      "\n",
      "50) SATIS_HE\n",
      "How strongly do you agree or disagree with the following statements? My overall health is good compared to most people my age. [SATIS_HEALTH]\n",
      "RANGE: 1 to 4\n",
      "\tN\tMean\tStd. Deviation\n",
      "Total\t1541\t2.034\t0.675\n",
      "1) Strongly agree\t277\t18.0\n",
      "2) Agree\t982\t63.7\n",
      "3) Disagree\t234\t15.2\n",
      "4) Strongly disagree\t48\t3.1\n",
      "Missing\t32\n"
     ]
    }
   ],
   "source": [
    "print(labels[50])"
   ]
  },
  {
   "cell_type": "code",
   "execution_count": 28,
   "id": "31e1c8ee",
   "metadata": {},
   "outputs": [],
   "source": [
    "fields = [\"Q_NAME\", \"Description\", \"Option_Num\", \"Option_Text\"]\n",
    "data = []"
   ]
  },
  {
   "cell_type": "code",
   "execution_count": 50,
   "id": "92d81baa",
   "metadata": {},
   "outputs": [],
   "source": [
    "def labels_to_csv(labels_path, output_filename):\n",
    "    labels = open(labels_path).read().split(\"\\n\\n\")\n",
    "    fields = (\"Q_NAME\", \"Description\", \"Option_Num\", \"Option_Text\")\n",
    "    data = []\n",
    "    for label in labels:\n",
    "        strings = label.split(\"\\n\")\n",
    "        if not strings[0]:\n",
    "            strings = strings[1:]\n",
    "        if len(strings) <= 5:\n",
    "            continue\n",
    "        Q_NAME = strings[0].split(\") \")[1]\n",
    "        descr = strings[1]\n",
    "        for option in strings[5:]:\n",
    "            if \")\" not in option:\n",
    "                break\n",
    "            option = option.split(\"\\t\")[0]\n",
    "            br_ix = option.index(\")\")\n",
    "            opt_num = option[:br_ix]\n",
    "            opt_text = option[br_ix + 2:]\n",
    "            data.append((Q_NAME, descr, opt_num, opt_text))\n",
    "    pd.DataFrame([fields] + data).to_csv(output_filename, index=False, header=False)\n",
    "    "
   ]
  },
  {
   "cell_type": "code",
   "execution_count": 51,
   "id": "55a14c13",
   "metadata": {},
   "outputs": [],
   "source": [
    "labels_to_csv(\"data/csaf_2018_labels.txt\", \"csaf_2018_labels.csv\")"
   ]
  },
  {
   "cell_type": "code",
   "execution_count": null,
   "id": "967f7ea1",
   "metadata": {},
   "outputs": [],
   "source": [
    "for label in labels:\n",
    "    strings = label.split(\"\\n\")\n",
    "    if not strings[0]:\n",
    "        strings = strings[1:]\n",
    "    if len(strings) <= 5:\n",
    "        continue\n",
    "    Q_NAME = strings[0].split(\") \")[1]\n",
    "    descr = strings[1]\n",
    "    for option in strings[5:]:\n",
    "        if \")\" not in option:\n",
    "            break\n",
    "        option = option.split(\"\\t\")[0]\n",
    "        opt_num, opt_text = option.split(\") \")\n",
    "        data.append((Q_NAME, descr, opt_num, opt_text))\n",
    "    "
   ]
  }
 ],
 "metadata": {
  "kernelspec": {
   "display_name": "Python 3",
   "language": "python",
   "name": "python3"
  },
  "language_info": {
   "codemirror_mode": {
    "name": "ipython",
    "version": 3
   },
   "file_extension": ".py",
   "mimetype": "text/x-python",
   "name": "python",
   "nbconvert_exporter": "python",
   "pygments_lexer": "ipython3",
   "version": "3.11.4"
  }
 },
 "nbformat": 4,
 "nbformat_minor": 5
}
